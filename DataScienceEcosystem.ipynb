{
 "cells": [
  {
   "cell_type": "markdown",
   "id": "e4ac7663-dce0-4d75-853a-5a22fc0c07be",
   "metadata": {},
   "source": [
    "# Data Science Tools and Ecosystem"
   ]
  },
  {
   "cell_type": "markdown",
   "id": "278ecbb1-2940-469b-bee2-9a87209acba6",
   "metadata": {},
   "source": [
    "## In this notebook, Data Science Tools and Ecosystem are summarized."
   ]
  },
  {
   "cell_type": "markdown",
   "id": "ac0c6e5a-beb8-4b30-86b0-57b8c3315add",
   "metadata": {},
   "source": [
    "# Some of the popular languages that Data Scientists use are:\n",
    "    1.- Python \n",
    "    2.- R \n",
    "    3.- SQL"
   ]
  },
  {
   "cell_type": "markdown",
   "id": "e319dd7f-b859-4597-9f09-9ef05d86ad00",
   "metadata": {},
   "source": [
    "# Some of the commonly used libraries used by Data Scientists include:\n",
    "1.- Pandas\n",
    "2.- NumPy\n",
    "3.- Matplotlib\n",
    "4.- Scikit-learn "
   ]
  },
  {
   "cell_type": "markdown",
   "id": "d7b99a1d-6327-4b51-8243-e24bac2ce5e6",
   "metadata": {},
   "source": [
    "# Herramientas de Ciencia de Datos\n",
    "\n",
    "| Data Science Tools   | \n",
    "|----------------------|\n",
    "| **Pandas**           |\n",
    "|----------------------|\n",
    "| **NumPy**            |\n",
    "|----------------------|\n",
    "| **Matplotlib**       |\n",
    "|----------------------|\n"
   ]
  },
  {
   "cell_type": "markdown",
   "id": "58c71a8b-2e8c-497a-b50c-b3cc3c7980c8",
   "metadata": {},
   "source": [
    "### Below are a few examples of evaluating arithmetic expressions in Python"
   ]
  },
  {
   "cell_type": "raw",
   "id": "f0bae2b6-63c1-42b0-97b2-22c6b46869bb",
   "metadata": {},
   "source": [
    "This a simple arithmetic expression to mutiply then add integers"
   ]
  },
  {
   "cell_type": "code",
   "execution_count": 1,
   "id": "da723211-fe26-4809-a4f9-6820984ef7f5",
   "metadata": {},
   "outputs": [
    {
     "data": {
      "text/plain": [
       "17"
      ]
     },
     "execution_count": 1,
     "metadata": {},
     "output_type": "execute_result"
    }
   ],
   "source": [
    "(3*4)+5"
   ]
  },
  {
   "cell_type": "code",
   "execution_count": 11,
   "id": "adce39f9-94e1-43b3-bb7e-1d6098407a82",
   "metadata": {},
   "outputs": [
    {
     "name": "stdout",
     "output_type": "stream",
     "text": [
      "200 minutos equivalen a 3.33 horas.\n"
     ]
    }
   ],
   "source": [
    "# This will convert 200 minutes to hours by diving by 60\n",
    "minutos = 200\n",
    "horas = minutos / 60\n",
    "\n",
    "print(f\"{minutos} minutos equivalen a {horas:.2f} horas.\")\n"
   ]
  },
  {
   "cell_type": "markdown",
   "id": "304f38f4-3250-46fa-9bc6-3dc174f4f3ce",
   "metadata": {},
   "source": [
    "## Objectives:\n",
    "    1.-Create a Jupyter Notebook\n",
    "    2.-Insert code and markdown cells\n",
    "    3.-Share your notebook through GitHub"
   ]
  },
  {
   "cell_type": "markdown",
   "id": "f75acc18-df51-4619-a13c-88047e6908f0",
   "metadata": {},
   "source": [
    "# Author\n",
    "GERARDO MARTIN ARIAS VARGAS"
   ]
  },
  {
   "cell_type": "code",
   "execution_count": null,
   "id": "8878ea0b-8430-443d-9020-c0f92396aef8",
   "metadata": {},
   "outputs": [],
   "source": []
  }
 ],
 "metadata": {
  "kernelspec": {
   "display_name": "Python 3 (ipykernel)",
   "language": "python",
   "name": "python3"
  },
  "language_info": {
   "codemirror_mode": {
    "name": "ipython",
    "version": 3
   },
   "file_extension": ".py",
   "mimetype": "text/x-python",
   "name": "python",
   "nbconvert_exporter": "python",
   "pygments_lexer": "ipython3",
   "version": "3.10.9"
  }
 },
 "nbformat": 4,
 "nbformat_minor": 5
}
